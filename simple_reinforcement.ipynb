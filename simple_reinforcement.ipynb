{
 "cells": [
  {
   "cell_type": "code",
   "execution_count": 53,
   "metadata": {
    "collapsed": true
   },
   "outputs": [],
   "source": [
    "import numpy as np\n",
    "import sys\n",
    "import time\n",
    "from IPython.display import clear_output # for the hacky render piece"
   ]
  },
  {
   "cell_type": "code",
   "execution_count": 73,
   "metadata": {
    "collapsed": true
   },
   "outputs": [],
   "source": [
    "test_env = np.array([\n",
    "\n",
    "    ['S', 'D', 'O'],\n",
    "    ['O', 'O', 'D'],\n",
    "    ['O', 'O', 'O'],\n",
    "    ['O', 'O', 'D'],\n",
    "    ['D', 'O', 'O'],\n",
    "    ['O', 'O', 'O'],\n",
    "    ['O', 'D', 'D'],\n",
    "    ['O', 'O', 'O'],\n",
    "    ['O', 'D', 'O'],\n",
    "    ['O', 'O', 'O'],\n",
    "    ['O', 'O', 'D'],\n",
    "    ['O', 'O', 'G']\n",
    "   \n",
    "])\n",
    "\n",
    "\n",
    "actions = {\n",
    "           \"up\":1,\n",
    "           \"right\":2,\n",
    "           \"down\":3,\n",
    "           \"left\":4\n",
    "          }"
   ]
  },
  {
   "cell_type": "code",
   "execution_count": 74,
   "metadata": {
    "collapsed": true
   },
   "outputs": [],
   "source": [
    "def actor(action,\n",
    "          state,\n",
    "          env = test_env):\n",
    "\n",
    "    if action == 1:\n",
    "        \n",
    "        update = state[0]-1\n",
    "        \n",
    "        if update < 0:\n",
    "            pass\n",
    "        else:\n",
    "            state[0] = update\n",
    "\n",
    "    elif action == 2: \n",
    "        \n",
    "        update = state[1]+1\n",
    "        \n",
    "        if update > 2:\n",
    "            pass\n",
    "        else:\n",
    "            state[1] = update\n",
    "\n",
    "    elif action == 3:\n",
    "        \n",
    "        update = state[0]+1\n",
    "       \n",
    "        if update < 0:\n",
    "            pass\n",
    "        else:\n",
    "            state[0] = update\n",
    "\n",
    "    else:\n",
    "        \n",
    "        update = state[1]-1\n",
    "\n",
    "        if update < 0:\n",
    "            pass\n",
    "        else:\n",
    "            state[1] = update\n",
    "            \n",
    "    # return vals        \n",
    "\n",
    "    i0 = state[0]\n",
    "    i1 = state[1]\n",
    "\n",
    "    updated_state = env[i0][i1]\n",
    "    \n",
    "    if updated_state == \"G\":\n",
    "        DONE = True\n",
    "    else:\n",
    "        DONE = False\n",
    "        \n",
    "    return state, DONE"
   ]
  },
  {
   "cell_type": "code",
   "execution_count": 79,
   "metadata": {
    "collapsed": false
   },
   "outputs": [],
   "source": [
    "def displayer(state,\n",
    "              env=test_env):\n",
    "    \n",
    "    copy_env = env.copy()\n",
    "    \n",
    "    copy_env[state[0]][state[1]] = \"*\" \n",
    "\n",
    "    env_string = '\\n'.join([''.join(['{:4}'.format(item) for item in row]) for row in copy_env])\n",
    "\n",
    "    sys.stdout.write('\\r'+env_string)\n",
    "    time.sleep(.5)\n",
    "    clear_output(wait=True)"
   ]
  },
  {
   "cell_type": "code",
   "execution_count": 80,
   "metadata": {
    "collapsed": false
   },
   "outputs": [
    {
     "name": "stdout",
     "output_type": "stream",
     "text": [
      "\r",
      "S   D   O   \n",
      "O   O   D   \n",
      "O   O   O   \n",
      "O   O   D   \n",
      "D   O   O   \n",
      "O   O   O   \n",
      "O   D   D   \n",
      "O   O   O   \n",
      "O   D   O   \n",
      "O   O   O   \n",
      "O   O   D   \n",
      "O   O   *   "
     ]
    }
   ],
   "source": [
    "winning_actions = [3,3,3,2,3,3,4,3,3,3,3,3,3,2,2]\n",
    "start_state = [0,0]\n",
    "running_states = [start_state]\n",
    "\n",
    "\n",
    "for j in range(len(winning_actions)):\n",
    "\n",
    "    s,DONE = actor(\n",
    "        \n",
    "        action = winning_actions[j],\n",
    "        state = list(running_states[j])\n",
    "    \n",
    "    )\n",
    "\n",
    "    # display grid\n",
    "    displayer(s)\n",
    "\n",
    "    running_states.append(s)\n",
    "\n",
    "    if DONE:\n",
    "\n",
    "        break"
   ]
  }
 ],
 "metadata": {
  "anaconda-cloud": {},
  "kernelspec": {
   "display_name": "Python [conda env:Anaconda2]",
   "language": "python",
   "name": "conda-env-Anaconda2-py"
  },
  "language_info": {
   "codemirror_mode": {
    "name": "ipython",
    "version": 2
   },
   "file_extension": ".py",
   "mimetype": "text/x-python",
   "name": "python",
   "nbconvert_exporter": "python",
   "pygments_lexer": "ipython2",
   "version": "2.7.12"
  }
 },
 "nbformat": 4,
 "nbformat_minor": 2
}
